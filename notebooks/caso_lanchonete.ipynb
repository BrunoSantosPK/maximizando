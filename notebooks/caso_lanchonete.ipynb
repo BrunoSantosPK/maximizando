{
 "cells": [
  {
   "cell_type": "markdown",
   "metadata": {},
   "source": [
    "# O Problema\n",
    "\n",
    "Neste estudo de caso o nosso ambiente é uma lanchonete localizada na interseção entre 3 grandes supermercados da cidade. Por estar em um bom local, o fluxo de pessoas pela loja é bem intenso, composto principalmente de pessoas que estão realizando suas compras e param para um lanche rápido.\n",
    "\n",
    "Dado este contexto, a lanchonete quer entender qual a melhor forma de montar o cardápio de salgados para maximizar o lucro líquido do dia. Ela conta com dois tipos principais de salgados, os fritos e os assados. O portfólio de fritos é composto por coxinha e pasteis de carne e de frango. Já os assados são joelho, empadinha, pão de queijo e esfirras de carne e de frango.\n",
    "\n",
    "Cada salgado possui uma receita específica, detalhadas no documento JSON chamado *receitas.json*. No grosso modo estas receitas compartilham trigo, leite, óleo e fermento como matérias-prima. O fluxo de compra diário deste materiais pode ser feito por demanda ou de forma fixada, hoje existem estas duas possibilidades.\n",
    "\n",
    "Vamos explorar nos próximos tópicos algumas análises e abordagens de otimização, sigamos em frente."
   ]
  },
  {
   "cell_type": "markdown",
   "metadata": {},
   "source": [
    "## Restrições\n",
    "\n",
    "Pelo histórico da lanchonete, foi encontrado que é possível se vender em média 300 salgados fritos e 400 salgados assados por dia, então:\n",
    "\n",
    "$ \\sum_{i=1}^n x_i \\leq 300 $\n",
    "\n",
    "$ \\sum_{j=1}^m x_j \\leq 400 $\n",
    "\n",
    "Em que i pertence ao conjunto de salgados fritos e j ao conjunto de salgados assados.\n",
    "\n",
    "Esta é a restrição base do nosso estudo de caso. Porém, em algumas aplicações trabalharemos com as restrições de matérias-prima, confrontando com a não utilização das mesmas para a otimização. Neste momento, a ideia é avaliar se é possível reduzir o desperdício e o custo dos ingredientes."
   ]
  },
  {
   "cell_type": "code",
   "execution_count": 1,
   "metadata": {},
   "outputs": [],
   "source": [
    "import os\n",
    "import json\n",
    "\n",
    "BASE_PATH = os.path.dirname(os.getcwd())\n",
    "RECIPES_PATH = f\"{BASE_PATH}/data/receitas.json\""
   ]
  },
  {
   "cell_type": "code",
   "execution_count": 19,
   "metadata": {},
   "outputs": [],
   "source": [
    "with open(RECIPES_PATH) as file:\n",
    "    recipes = json.load(file)"
   ]
  },
  {
   "cell_type": "code",
   "execution_count": 21,
   "metadata": {},
   "outputs": [
    {
     "name": "stdout",
     "output_type": "stream",
     "text": [
      "Coxinha: Frito\n",
      "Custo total: R$ 10.18\n",
      "Custo unitário: R$ 0.68\n",
      "Vendido por R$ 6\n",
      "\n",
      "Joelho: Assado\n",
      "Custo total: R$ 25.21\n",
      "Custo unitário: R$ 1.68\n",
      "Vendido por R$ 7\n",
      "\n",
      "Empadinha: Assado\n",
      "Custo total: R$ 15.31\n",
      "Custo unitário: R$ 1.53\n",
      "Vendido por R$ 8\n",
      "\n",
      "Pastel de carne: Frito\n",
      "Custo total: R$ 22.84\n",
      "Custo unitário: R$ 1.52\n",
      "Vendido por R$ 6\n",
      "\n",
      "Pastel de frango: Frito\n",
      "Custo total: R$ 15.39\n",
      "Custo unitário: R$ 1.03\n",
      "Vendido por R$ 6\n",
      "\n",
      "Esfirra de carne: Assado\n",
      "Custo total: R$ 18.77\n",
      "Custo unitário: R$ 1.88\n",
      "Vendido por R$ 7\n",
      "\n",
      "Esfirra de frango: Assado\n",
      "Custo total: R$ 11.31\n",
      "Custo unitário: R$ 1.13\n",
      "Vendido por R$ 7\n",
      "\n",
      "Pão de queijo: Assado\n",
      "Custo total: R$ 39.74\n",
      "Custo unitário: R$ 1.32\n",
      "Vendido por R$ 7\n",
      "\n"
     ]
    }
   ],
   "source": [
    "for product in recipes[\"salgados\"]:\n",
    "    total_cost = 0\n",
    "    for material in product[\"ingredientes\"]:\n",
    "        value = 0\n",
    "        for item in recipes[\"materias_prima\"]:\n",
    "            if item[\"nome\"] == material[\"nome\"]:\n",
    "                value = (material[\"quantidade\"] / item[\"quantidade_unitaria\"]) * item[\"custo_unitario\"]\n",
    "        total_cost = total_cost + value\n",
    "\n",
    "    print(\"{}: {}\".format(product[\"nome\"], product[\"tipo\"]))\n",
    "    print(f\"Custo total: R$ {round(total_cost, 2)}\")\n",
    "    print(f\"Custo unitário: R$ {round(total_cost / product['rendimento'], 2)}\")\n",
    "    print(f\"Vendido por R$ {round(product['vendido_por'], 2)}\")\n",
    "    print()"
   ]
  },
  {
   "cell_type": "code",
   "execution_count": null,
   "metadata": {},
   "outputs": [],
   "source": []
  },
  {
   "cell_type": "code",
   "execution_count": null,
   "metadata": {},
   "outputs": [],
   "source": []
  }
 ],
 "metadata": {
  "kernelspec": {
   "display_name": ".venv",
   "language": "python",
   "name": "python3"
  },
  "language_info": {
   "codemirror_mode": {
    "name": "ipython",
    "version": 3
   },
   "file_extension": ".py",
   "mimetype": "text/x-python",
   "name": "python",
   "nbconvert_exporter": "python",
   "pygments_lexer": "ipython3",
   "version": "3.10.12"
  }
 },
 "nbformat": 4,
 "nbformat_minor": 2
}
