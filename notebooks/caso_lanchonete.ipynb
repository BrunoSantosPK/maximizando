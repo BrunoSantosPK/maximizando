{
 "cells": [
  {
   "cell_type": "markdown",
   "metadata": {},
   "source": [
    "# O Problema\n",
    "\n",
    "Neste estudo de caso o nosso ambiente é uma lanchonete localizada na interseção entre 3 grandes supermercados da cidade. Por estar em um bom local, o fluxo de pessoas pela loja é bem intenso, composto principalmente de pessoas que estão realizando suas compras e param para um lanche rápido.\n",
    "\n",
    "Dado este contexto, a lanchonete quer entender qual a melhor forma de montar o cardápio de salgados para maximizar o lucro líquido do dia. Ela conta com dois tipos principais de salgados, os fritos e os assados. O portfólio de fritos é composto por coxinha e pasteis de carne e de frango. Já os assados são joelho, empadinha, pão de queijo e esfirras de carne e de frango.\n",
    "\n",
    "Cada salgado possui uma receita específica, detalhadas no documento JSON chamado *receitas.json*. No grosso modo estas receitas compartilham trigo, leite, óleo e fermento como matérias-prima. O fluxo de compra diário deste materiais pode ser feito por demanda ou de forma fixada, hoje existem estas duas possibilidades.\n",
    "\n",
    "Vamos explorar nos próximos tópicos algumas análises e abordagens de otimização, sigamos em frente."
   ]
  },
  {
   "cell_type": "markdown",
   "metadata": {},
   "source": [
    "## Restrições\n",
    "\n",
    "Pelo histórico da lanchonete, foi encontrado que é possível se vender em média 300 salgados fritos e 400 salgados assados por dia, então:\n",
    "\n",
    "$ \\sum_{i=1}^n x_i \\leq 300 $\n",
    "\n",
    "$ \\sum_{j=1}^m x_j \\leq 400 $\n",
    "\n",
    "Em que i pertence ao conjunto de salgados fritos e j ao conjunto de salgados assados.\n",
    "\n",
    "Esta é a restrição base do nosso estudo de caso. Porém, em algumas aplicações trabalharemos com as restrições de matérias-prima, confrontando com a não utilização das mesmas para a otimização. Neste momento, a ideia é avaliar se é possível reduzir o desperdício e o custo dos ingredientes."
   ]
  },
  {
   "cell_type": "code",
   "execution_count": 79,
   "metadata": {},
   "outputs": [],
   "source": [
    "import os\n",
    "import json\n",
    "import random\n",
    "from enum import Enum\n",
    "from typing import List, Dict, Tuple\n",
    "from typing_extensions import Self\n",
    "\n",
    "BASE_PATH = os.path.dirname(os.getcwd())\n",
    "RECIPES_PATH = f\"{BASE_PATH}/data/receitas.json\""
   ]
  },
  {
   "cell_type": "code",
   "execution_count": 2,
   "metadata": {},
   "outputs": [],
   "source": [
    "with open(RECIPES_PATH) as file:\n",
    "    recipes = json.load(file)"
   ]
  },
  {
   "cell_type": "code",
   "execution_count": null,
   "metadata": {},
   "outputs": [],
   "source": [
    "class SnackType(Enum):\n",
    "    ASSADO = 1\n",
    "    FRITO = 2"
   ]
  },
  {
   "cell_type": "code",
   "execution_count": 109,
   "metadata": {},
   "outputs": [],
   "source": [
    "class Ingredient:\n",
    "    def __init__(self, name: str, unit_cost: float,\n",
    "        unit_quantity: float, buy_in_fraciont: bool\n",
    "    ) -> None:\n",
    "        self.name = name\n",
    "        self.unit_cost = unit_cost\n",
    "        self.unit_quantity = unit_quantity\n",
    "        self.buy_in_fraction = buy_in_fraciont"
   ]
  },
  {
   "cell_type": "code",
   "execution_count": 80,
   "metadata": {},
   "outputs": [],
   "source": [
    "class Plan:\n",
    "    def __init__(self) -> None:\n",
    "        self.production: Dict[str, List[int]] = {\n",
    "            SnackType.FRITO.name: [],\n",
    "            SnackType.ASSADO.name: []\n",
    "        }\n",
    "    \n",
    "    def get_solution(self) -> Tuple[List[int], List[int]]:\n",
    "        return [self.production[s] for s in self.production.keys()]\n",
    "    \n",
    "    def copy(self) -> Self:\n",
    "        new_plan = Plan()\n",
    "        for snack_type in self.production.keys():\n",
    "            for item in self.production[snack_type]:\n",
    "                new_plan.production[snack_type].append(item)\n",
    "        return new_plan"
   ]
  },
  {
   "cell_type": "code",
   "execution_count": 55,
   "metadata": {},
   "outputs": [],
   "source": [
    "class Recipe:\n",
    "    def __init__(self, name: str, snack_type: SnackType, unit_per_batch: int,\n",
    "        unit_price: float, ingredients: List[Tuple[Ingredient, float]]\n",
    "    ) -> None:\n",
    "        self.name = name\n",
    "        self.snack_type = snack_type\n",
    "        self.unit_price = unit_price\n",
    "        self.ingredients = ingredients\n",
    "        self.unit_per_batch = unit_per_batch"
   ]
  },
  {
   "cell_type": "code",
   "execution_count": 110,
   "metadata": {},
   "outputs": [],
   "source": [
    "class Bar:\n",
    "    def __init__(self, recipes: dict, max_fried: int, max_roast: int) -> None:\n",
    "        self.ingredients: Dict[str, Ingredient] = dict()\n",
    "        self.snacks: Dict[str, List[Recipe]] = {\n",
    "            SnackType.FRITO.name: [],\n",
    "            SnackType.ASSADO.name: []\n",
    "        }\n",
    "        self.max_production = {\n",
    "            SnackType.FRITO.name: max_fried,\n",
    "            SnackType.ASSADO.name: max_roast\n",
    "        }\n",
    "        self.__process(recipes)\n",
    "\n",
    "    def random_plan(self) -> Plan:\n",
    "        plan = Plan()\n",
    "        for snack_type in self.snacks.keys():\n",
    "            for _ in self.snacks[snack_type]:\n",
    "                max_production = self.max_production[snack_type]\n",
    "                value = random.randint(0, int(max_production * 0.2))\n",
    "                current_production = sum(plan.production[snack_type])\n",
    "\n",
    "                if current_production + value > max_production:\n",
    "                    plan.production[snack_type].append(max_production - current_production)\n",
    "                else:\n",
    "                    plan.production[snack_type].append(value)\n",
    "\n",
    "        return plan\n",
    "    \n",
    "    def near_plans(self, plan: Plan, number=50, mutation=0.1) -> List[Plan]:\n",
    "        solutions: List[Plan] = []\n",
    "        for _ in range(0, number):\n",
    "            new_plan = plan.copy()\n",
    "\n",
    "            for snack_type in plan.production.keys():\n",
    "                while True:\n",
    "                    i = random.randint(0, len(plan.production[snack_type]) - 1)\n",
    "                    step = int(mutation * self.max_production[snack_type])\n",
    "                    new_plan.production[snack_type][i] = new_plan.production[snack_type][i] + random.randint(-1 * step, step)\n",
    "\n",
    "                    if sum(new_plan.production[snack_type]) <= self.max_production[snack_type]:\n",
    "                        break\n",
    "                    else:\n",
    "                        new_plan.production[snack_type][i] = plan.production[snack_type][i]\n",
    "\n",
    "            solutions.append(new_plan)\n",
    "\n",
    "        return solutions\n",
    "    \n",
    "    def calculate_profit(self, plan: Plan) -> float:\n",
    "        cost, revenue = 0, 0\n",
    "        stock = dict()\n",
    "        for ingredient in self.ingredients.keys():\n",
    "            stock[ingredient] = 0\n",
    "\n",
    "        for snack_type in plan.production.keys():\n",
    "            for production_quantity, recipe in zip(plan.production[snack_type], self.snacks[snack_type]):\n",
    "                # Faz o cálculo de quanto será preciso comprar de cada ingrediente\n",
    "                for ingredient, quantity in recipe.ingredients:\n",
    "                    need_quantity = quantity * production_quantity / recipe.unit_per_batch\n",
    "\n",
    "                    # Executa a compra do material necessário\n",
    "                    while stock[ingredient.name] < need_quantity:\n",
    "                        if ingredient.buy_in_fraction:\n",
    "                            stock[ingredient.name] = stock[ingredient.name] + need_quantity\n",
    "                            cost = cost + (need_quantity / ingredient.unit_quantity) * ingredient.unit_cost\n",
    "                        else:\n",
    "                            stock[ingredient.name] = stock[ingredient.name] + ingredient.unit_quantity\n",
    "                            cost = cost + ingredient.unit_cost\n",
    "\n",
    "                    # Remove quantidade do estoque\n",
    "                    stock[ingredient.name] = stock[ingredient.name] - need_quantity\n",
    "\n",
    "                # Executa a venda dos produtos\n",
    "                revenue = revenue + production_quantity * recipe.unit_price\n",
    "\n",
    "        return revenue - cost\n",
    "\n",
    "    def __process(self, recipes) -> None:\n",
    "        # Carrega as matérias primas disponíveis para as receitas\n",
    "        for product in recipes[\"materias_prima\"]:\n",
    "            name = product[\"nome\"]\n",
    "            self.ingredients[name] = Ingredient(\n",
    "                name,\n",
    "                product[\"custo_unitario\"],\n",
    "                product[\"quantidade_unitaria\"],\n",
    "                product[\"compra_fracionada\"]\n",
    "            )\n",
    "\n",
    "        # Carrega as receitas de salgados por tipo\n",
    "        for snack in recipes[\"salgados\"]:\n",
    "            snack_type = snack[\"tipo\"].upper()\n",
    "            self.snacks[snack_type].append(Recipe(\n",
    "                snack[\"nome\"],\n",
    "                snack_type,\n",
    "                snack[\"rendimento\"],\n",
    "                snack[\"vendido_por\"],\n",
    "                [(self.ingredients[ingredient[\"nome\"]], ingredient[\"quantidade\"]) for ingredient in snack[\"ingredientes\"]]\n",
    "            ))"
   ]
  },
  {
   "cell_type": "code",
   "execution_count": 121,
   "metadata": {},
   "outputs": [],
   "source": [
    "class HillClimbing:\n",
    "    def __init__(self, bar: Bar) -> None:\n",
    "        self.bar = bar\n",
    "\n",
    "    def execute(self, repeat=50) -> Tuple[float, Plan]:\n",
    "        global_profit = 0\n",
    "        global_plan = None\n",
    "\n",
    "        for i in range(0, repeat):\n",
    "            iteration = 1\n",
    "            current_plan = self.bar.random_plan()\n",
    "            current_profit = self.bar.calculate_profit(current_plan)\n",
    "\n",
    "            while True:\n",
    "                print(f\"----Repetição {i + 1} iteração {iteration}, lucro de R$ {round(current_profit, 2)}----\", end=\"\\r\")\n",
    "                improved = False\n",
    "                for new_plan in self.bar.near_plans(current_plan, number=200):\n",
    "                    new_profit = self.bar.calculate_profit(new_plan)\n",
    "                    if new_profit > current_profit:\n",
    "                        current_profit = new_profit\n",
    "                        current_plan = new_plan\n",
    "                        improved = True\n",
    "\n",
    "                if current_profit > global_profit:\n",
    "                    global_profit = current_profit\n",
    "                    global_plan = current_plan\n",
    "\n",
    "                iteration = iteration + 1\n",
    "                if not improved:\n",
    "                    break\n",
    "        \n",
    "        print(f\"\\nMelhor lucro R$ {round(global_profit, 2)}\")\n",
    "        print(f\"Plano de produção: {global_plan.get_solution()}\")\n",
    "        return global_profit, global_plan"
   ]
  },
  {
   "cell_type": "code",
   "execution_count": 122,
   "metadata": {},
   "outputs": [
    {
     "name": "stdout",
     "output_type": "stream",
     "text": [
      "----Repetição 50 iteração 11, lucro de R$ 3758.89----\n",
      "Melhor lucro R$ 3957.18\n",
      "Plano de produção: [[185, 5, 108], [11, 250, 1, 85, 53]]\n"
     ]
    }
   ],
   "source": [
    "bar = Bar(recipes, max_fried=300, max_roast=400)\n",
    "hc = HillClimbing(bar)\n",
    "global_profit, global_plan = hc.execute(repeat=50)"
   ]
  },
  {
   "cell_type": "code",
   "execution_count": null,
   "metadata": {},
   "outputs": [],
   "source": []
  },
  {
   "cell_type": "code",
   "execution_count": null,
   "metadata": {},
   "outputs": [],
   "source": []
  },
  {
   "cell_type": "code",
   "execution_count": null,
   "metadata": {},
   "outputs": [],
   "source": []
  },
  {
   "cell_type": "code",
   "execution_count": null,
   "metadata": {},
   "outputs": [],
   "source": []
  },
  {
   "cell_type": "code",
   "execution_count": null,
   "metadata": {},
   "outputs": [],
   "source": []
  }
 ],
 "metadata": {
  "kernelspec": {
   "display_name": ".venv",
   "language": "python",
   "name": "python3"
  },
  "language_info": {
   "codemirror_mode": {
    "name": "ipython",
    "version": 3
   },
   "file_extension": ".py",
   "mimetype": "text/x-python",
   "name": "python",
   "nbconvert_exporter": "python",
   "pygments_lexer": "ipython3",
   "version": "3.10.12"
  }
 },
 "nbformat": 4,
 "nbformat_minor": 2
}
